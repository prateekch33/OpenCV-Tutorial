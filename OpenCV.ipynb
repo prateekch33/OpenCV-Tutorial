{
 "cells": [
  {
   "cell_type": "code",
   "execution_count": 1,
   "source": [
    "#OpenCV Course\n",
    "import cv2 as cv\n",
    "print(cv.__version__)"
   ],
   "outputs": [
    {
     "output_type": "stream",
     "name": "stdout",
     "text": [
      "4.2.0\n"
     ]
    }
   ],
   "metadata": {}
  },
  {
   "cell_type": "code",
   "execution_count": 2,
   "source": [
    "#Chapter 1\n",
    "img=cv.imread(\"Resources/1608463046534.jpg\")\n",
    "imgFinal = cv.resize(img, (0, 0), fx = 0.4, fy = 0.3)\n",
    "cv.imshow(\"Output\",imgFinal)\n",
    "cv.waitKey(0)"
   ],
   "outputs": [
    {
     "output_type": "execute_result",
     "data": {
      "text/plain": [
       "-1"
      ]
     },
     "metadata": {},
     "execution_count": 2
    }
   ],
   "metadata": {}
  },
  {
   "cell_type": "code",
   "execution_count": 3,
   "source": [
    "#Chapter 2\n",
    "import numpy as np\n",
    "img=cv.imread(\"Resources/1608463046534.jpg\") #Image reading\n",
    "kernel=np.ones((5,5),np.uint8) #Kernels for Dilation and Erosion\n",
    "imgGray=cv.cvtColor(img,cv.COLOR_BGR2GRAY) #Image in GrayScale\n",
    "imgBlur=cv.GaussianBlur(imgGray,(7,7),0) #Blur Image\n",
    "imgCanny=cv.Canny(img,100,100) #Caany Image means only borders/outline is shown\n",
    "imgDilation=cv.dilate(imgCanny,kernel,iterations=1) #Dilation Image means more thick corner\n",
    "imgEroded=cv.erode(imgDilation,kernel,iterations=1) #Erosion Image means less corners/intensity of corners eroded\n",
    "\n",
    "#resizing according to screen size for better view\n",
    "imgFinal1 = cv.resize(imgGray, (0, 0), fx = 0.4, fy = 0.3) \n",
    "imgFinal2 = cv.resize(imgBlur, (0, 0), fx = 0.4, fy = 0.3)\n",
    "imgFinal3 = cv.resize(imgCanny, (0, 0), fx = 0.4, fy = 0.3)\n",
    "imgFinal4 = cv.resize(imgDilation, (0, 0), fx = 0.4, fy = 0.3)\n",
    "imgFinal5 = cv.resize(imgEroded, (0, 0), fx = 0.4, fy = 0.3)\n",
    "\n",
    "#Display of Image\n",
    "cv.imshow(\"Gray Image\",imgFinal1)\n",
    "cv.imshow(\"Blur Image\",imgFinal2)\n",
    "cv.imshow(\"Canny Image\",imgFinal3)\n",
    "cv.imshow(\"Dilation Image\",imgFinal4)\n",
    "cv.imshow(\"Eroded Image\",imgFinal5)\n",
    "\n",
    "#For Delay of the Display\n",
    "cv.waitKey(0) # 0 stands for Infinite Delay"
   ],
   "outputs": [
    {
     "output_type": "execute_result",
     "data": {
      "text/plain": [
       "-1"
      ]
     },
     "metadata": {},
     "execution_count": 3
    }
   ],
   "metadata": {}
  },
  {
   "cell_type": "code",
   "execution_count": null,
   "source": [],
   "outputs": [],
   "metadata": {}
  }
 ],
 "metadata": {
  "orig_nbformat": 4,
  "language_info": {
   "name": "python",
   "version": "3.8.10",
   "mimetype": "text/x-python",
   "codemirror_mode": {
    "name": "ipython",
    "version": 3
   },
   "pygments_lexer": "ipython3",
   "nbconvert_exporter": "python",
   "file_extension": ".py"
  },
  "kernelspec": {
   "name": "python3",
   "display_name": "Python 3.8.10 64-bit"
  },
  "interpreter": {
   "hash": "916dbcbb3f70747c44a77c7bcd40155683ae19c65e1c03b4aa3499c5328201f1"
  }
 },
 "nbformat": 4,
 "nbformat_minor": 2
}