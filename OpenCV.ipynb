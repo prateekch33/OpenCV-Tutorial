{
 "cells": [
  {
   "cell_type": "code",
   "execution_count": 4,
   "source": [
    "import cv2 as cv\r\n",
    "print(cv.__version__)"
   ],
   "outputs": [
    {
     "output_type": "stream",
     "name": "stdout",
     "text": [
      "4.5.3\n"
     ]
    }
   ],
   "metadata": {}
  },
  {
   "cell_type": "code",
   "execution_count": 5,
   "source": [
    "#Chapter 1\r\n",
    "img=cv.imread(\"Resources/1608463046534.jpg\")\r\n",
    "imgFinal = cv.resize(img, (0, 0), fx = 0.4, fy = 0.3)\r\n",
    "cv.imshow(\"Output\",imgFinal)\r\n",
    "cv.waitKey(0)"
   ],
   "outputs": [
    {
     "output_type": "execute_result",
     "data": {
      "text/plain": [
       "-1"
      ]
     },
     "metadata": {},
     "execution_count": 5
    }
   ],
   "metadata": {}
  },
  {
   "cell_type": "code",
   "execution_count": 6,
   "source": [
    "#Chapter 2\r\n",
    "import numpy as np\r\n",
    "img=cv.imread(\"Resources/1608463046534.jpg\") #Image reading\r\n",
    "kernel=np.ones((5,5),np.uint8) #Kernels for Dilation and Erosion\r\n",
    "imgGray=cv.cvtColor(img,cv.COLOR_BGR2GRAY) #Image in GrayScale\r\n",
    "imgBlur=cv.GaussianBlur(imgGray,(7,7),0) #Blur Image\r\n",
    "imgCanny=cv.Canny(img,100,100) #Caany Image means only borders/outline is shown\r\n",
    "imgDilation=cv.dilate(imgCanny,kernel,iterations=1) #Dilation Image means more thick corner\r\n",
    "imgEroded=cv.erode(imgDilation,kernel,iterations=1) #Erosion Image means less corners/intensity of corners eroded\r\n",
    "\r\n",
    "#resizing according to screen size for better view\r\n",
    "imgFinal1 = cv.resize(imgGray, (0, 0), fx = 0.4, fy = 0.3) \r\n",
    "imgFinal2 = cv.resize(imgBlur, (0, 0), fx = 0.4, fy = 0.3)\r\n",
    "imgFinal3 = cv.resize(imgCanny, (0, 0), fx = 0.4, fy = 0.3)\r\n",
    "imgFinal4 = cv.resize(imgDilation, (0, 0), fx = 0.4, fy = 0.3)\r\n",
    "imgFinal5 = cv.resize(imgEroded, (0, 0), fx = 0.4, fy = 0.3)\r\n",
    "\r\n",
    "#Display of Image\r\n",
    "cv.imshow(\"Gray Image\",imgFinal1)\r\n",
    "cv.imshow(\"Blur Image\",imgFinal2)\r\n",
    "cv.imshow(\"Canny Image\",imgFinal3)\r\n",
    "cv.imshow(\"Dilation Image\",imgFinal4)\r\n",
    "cv.imshow(\"Eroded Image\",imgFinal5)\r\n",
    "\r\n",
    "#For Delay of the Display\r\n",
    "cv.waitKey(0) # 0 stands for Infinite Delay"
   ],
   "outputs": [
    {
     "output_type": "execute_result",
     "data": {
      "text/plain": [
       "-1"
      ]
     },
     "metadata": {},
     "execution_count": 6
    }
   ],
   "metadata": {}
  }
 ],
 "metadata": {
  "orig_nbformat": 4,
  "language_info": {
   "name": "python",
   "version": "3.9.7",
   "mimetype": "text/x-python",
   "codemirror_mode": {
    "name": "ipython",
    "version": 3
   },
   "pygments_lexer": "ipython3",
   "nbconvert_exporter": "python",
   "file_extension": ".py"
  },
  "kernelspec": {
   "name": "python3",
   "display_name": "Python 3.9.7 64-bit"
  },
  "interpreter": {
   "hash": "63fd5069d213b44bf678585dea6b12cceca9941eaf7f819626cde1f2670de90d"
  }
 },
 "nbformat": 4,
 "nbformat_minor": 2
}